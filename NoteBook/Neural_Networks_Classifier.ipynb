{
 "cells": [
  {
   "cell_type": "code",
   "execution_count": 1,
   "metadata": {},
   "outputs": [
    {
     "data": {
      "application/javascript": [
       "IPython.notebook.set_autosave_interval(0)"
      ]
     },
     "metadata": {},
     "output_type": "display_data"
    },
    {
     "name": "stdout",
     "output_type": "stream",
     "text": [
      "Autosave disabled\n"
     ]
    }
   ],
   "source": [
    "%autosave 0\n",
    "import pandas as pd\n",
    "from pandas import read_csv, DataFrame\n",
    "import numpy as np\n",
    "\n",
    "from sklearn.model_selection import train_test_split\n",
    "from sklearn.preprocessing import OneHotEncoder, StandardScaler, LabelEncoder, MinMaxScaler\n",
    "from sklearn.compose import make_column_transformer\n",
    "from sklearn.metrics import confusion_matrix\n",
    "\n",
    "from tensorflow.keras.models import Sequential\n",
    "from tensorflow.keras.layers import Dense, Dropout\n",
    "from tensorflow.keras import metrics, optimizers, regularizers\n",
    "\n",
    "import seaborn as sns\n",
    "import matplotlib.pyplot as plt\n",
    "\n",
    "import warnings\n",
    "warnings.filterwarnings(\"ignore\") "
   ]
  },
  {
   "cell_type": "code",
   "execution_count": 2,
   "metadata": {},
   "outputs": [
    {
     "data": {
      "text/html": [
       "<div>\n",
       "<style scoped>\n",
       "    .dataframe tbody tr th:only-of-type {\n",
       "        vertical-align: middle;\n",
       "    }\n",
       "\n",
       "    .dataframe tbody tr th {\n",
       "        vertical-align: top;\n",
       "    }\n",
       "\n",
       "    .dataframe thead th {\n",
       "        text-align: right;\n",
       "    }\n",
       "</style>\n",
       "<table border=\"1\" class=\"dataframe\">\n",
       "  <thead>\n",
       "    <tr style=\"text-align: right;\">\n",
       "      <th></th>\n",
       "      <th>Steam_id</th>\n",
       "      <th>Title</th>\n",
       "      <th>Date_release</th>\n",
       "      <th>Evaluation</th>\n",
       "      <th>Nb_Eval</th>\n",
       "      <th>Nb_game_tags</th>\n",
       "      <th>Game_Tag_1</th>\n",
       "      <th>Game_Tag_2</th>\n",
       "      <th>Game_Tag_3</th>\n",
       "      <th>Game_Tag_4</th>\n",
       "      <th>Game_Tag_5</th>\n",
       "      <th>App_cat</th>\n",
       "      <th>Dev_team</th>\n",
       "      <th>Publisher_team</th>\n",
       "      <th>Os_supported</th>\n",
       "      <th>Prymary_genre</th>\n",
       "      <th>Controller_support</th>\n",
       "      <th>Is_free_app</th>\n",
       "      <th>Nb_language</th>\n",
       "      <th>Workshop_visible</th>\n",
       "      <th>Only_vr_support</th>\n",
       "      <th>Vr_support</th>\n",
       "      <th>Has_adult_content</th>\n",
       "      <th>Nb_achievements</th>\n",
       "      <th>Single_player</th>\n",
       "      <th>Coop_player</th>\n",
       "      <th>Multi_player</th>\n",
       "      <th>Early_Access</th>\n",
       "      <th>Price</th>\n",
       "    </tr>\n",
       "  </thead>\n",
       "  <tbody>\n",
       "    <tr>\n",
       "      <th>10463</th>\n",
       "      <td>408450</td>\n",
       "      <td>Last Days of Spring Soundtrack</td>\n",
       "      <td>2015-10-07</td>\n",
       "      <td>No</td>\n",
       "      <td>0</td>\n",
       "      <td>3</td>\n",
       "      <td>Simulation</td>\n",
       "      <td>Great Soundtrack</td>\n",
       "      <td>Female Protagonist</td>\n",
       "      <td>NaN</td>\n",
       "      <td>NaN</td>\n",
       "      <td>Downloadable Content</td>\n",
       "      <td>Sapphire Dragon Productions</td>\n",
       "      <td>Sapphire Dragon Productions</td>\n",
       "      <td>1</td>\n",
       "      <td>Simulation</td>\n",
       "      <td>0</td>\n",
       "      <td>0</td>\n",
       "      <td>2</td>\n",
       "      <td>0</td>\n",
       "      <td>0</td>\n",
       "      <td>0</td>\n",
       "      <td>0</td>\n",
       "      <td>0</td>\n",
       "      <td>1</td>\n",
       "      <td>0</td>\n",
       "      <td>0</td>\n",
       "      <td>0</td>\n",
       "      <td>1.99</td>\n",
       "    </tr>\n",
       "    <tr>\n",
       "      <th>11936</th>\n",
       "      <td>436170</td>\n",
       "      <td>Parasite Demo</td>\n",
       "      <td>2016-01-19</td>\n",
       "      <td>No</td>\n",
       "      <td>0</td>\n",
       "      <td>3</td>\n",
       "      <td>Action</td>\n",
       "      <td>Adventure</td>\n",
       "      <td>Indie</td>\n",
       "      <td>NaN</td>\n",
       "      <td>NaN</td>\n",
       "      <td>Demo</td>\n",
       "      <td>Raphael Gervaise</td>\n",
       "      <td>Raphael Gervaise</td>\n",
       "      <td>4</td>\n",
       "      <td>Action</td>\n",
       "      <td>1</td>\n",
       "      <td>0</td>\n",
       "      <td>1</td>\n",
       "      <td>0</td>\n",
       "      <td>0</td>\n",
       "      <td>0</td>\n",
       "      <td>0</td>\n",
       "      <td>0</td>\n",
       "      <td>1</td>\n",
       "      <td>0</td>\n",
       "      <td>0</td>\n",
       "      <td>0</td>\n",
       "      <td>0.00</td>\n",
       "    </tr>\n",
       "    <tr>\n",
       "      <th>41000</th>\n",
       "      <td>933400</td>\n",
       "      <td>Multibombers - Supporter Pack</td>\n",
       "      <td>2018-08-29</td>\n",
       "      <td>No</td>\n",
       "      <td>0</td>\n",
       "      <td>5</td>\n",
       "      <td>Strategy</td>\n",
       "      <td>Action</td>\n",
       "      <td>Indie</td>\n",
       "      <td>Casual</td>\n",
       "      <td>Free to Play</td>\n",
       "      <td>Downloadable Content</td>\n",
       "      <td>Pig s Indie Games</td>\n",
       "      <td>Pig s Indie Games</td>\n",
       "      <td>4</td>\n",
       "      <td>Action</td>\n",
       "      <td>1</td>\n",
       "      <td>0</td>\n",
       "      <td>9</td>\n",
       "      <td>0</td>\n",
       "      <td>0</td>\n",
       "      <td>0</td>\n",
       "      <td>0</td>\n",
       "      <td>0</td>\n",
       "      <td>0</td>\n",
       "      <td>0</td>\n",
       "      <td>1</td>\n",
       "      <td>0</td>\n",
       "      <td>0.00</td>\n",
       "    </tr>\n",
       "    <tr>\n",
       "      <th>17673</th>\n",
       "      <td>537750</td>\n",
       "      <td>Dungeon Of Doom Puzzle</td>\n",
       "      <td>2016-10-28</td>\n",
       "      <td>No</td>\n",
       "      <td>0</td>\n",
       "      <td>7</td>\n",
       "      <td>Adventure</td>\n",
       "      <td>Indie</td>\n",
       "      <td>Puzzle</td>\n",
       "      <td>Difficult</td>\n",
       "      <td>Atmospheric</td>\n",
       "      <td>Game</td>\n",
       "      <td>Codespace</td>\n",
       "      <td>Codespace</td>\n",
       "      <td>1</td>\n",
       "      <td>Indie</td>\n",
       "      <td>0</td>\n",
       "      <td>0</td>\n",
       "      <td>1</td>\n",
       "      <td>0</td>\n",
       "      <td>0</td>\n",
       "      <td>0</td>\n",
       "      <td>0</td>\n",
       "      <td>0</td>\n",
       "      <td>1</td>\n",
       "      <td>0</td>\n",
       "      <td>0</td>\n",
       "      <td>0</td>\n",
       "      <td>1.99</td>\n",
       "    </tr>\n",
       "    <tr>\n",
       "      <th>23677</th>\n",
       "      <td>632190</td>\n",
       "      <td>Invisigun Heroes - Soundtrack</td>\n",
       "      <td>2017-09-13</td>\n",
       "      <td>No</td>\n",
       "      <td>0</td>\n",
       "      <td>5</td>\n",
       "      <td>Indie</td>\n",
       "      <td>Casual</td>\n",
       "      <td>Strategy</td>\n",
       "      <td>Action</td>\n",
       "      <td>Free to Play</td>\n",
       "      <td>Downloadable Content</td>\n",
       "      <td>Sombr Studio</td>\n",
       "      <td>Sombr Studio</td>\n",
       "      <td>4</td>\n",
       "      <td>Action</td>\n",
       "      <td>1</td>\n",
       "      <td>0</td>\n",
       "      <td>1</td>\n",
       "      <td>0</td>\n",
       "      <td>0</td>\n",
       "      <td>0</td>\n",
       "      <td>0</td>\n",
       "      <td>0</td>\n",
       "      <td>1</td>\n",
       "      <td>0</td>\n",
       "      <td>1</td>\n",
       "      <td>0</td>\n",
       "      <td>3.99</td>\n",
       "    </tr>\n",
       "  </tbody>\n",
       "</table>\n",
       "</div>"
      ],
      "text/plain": [
       "       Steam_id                           Title Date_release Evaluation  \\\n",
       "10463    408450  Last Days of Spring Soundtrack   2015-10-07         No   \n",
       "11936    436170                   Parasite Demo   2016-01-19         No   \n",
       "41000    933400   Multibombers - Supporter Pack   2018-08-29         No   \n",
       "17673    537750          Dungeon Of Doom Puzzle   2016-10-28         No   \n",
       "23677    632190   Invisigun Heroes - Soundtrack   2017-09-13         No   \n",
       "\n",
       "       Nb_Eval  Nb_game_tags  Game_Tag_1        Game_Tag_2  \\\n",
       "10463        0             3  Simulation  Great Soundtrack   \n",
       "11936        0             3      Action         Adventure   \n",
       "41000        0             5    Strategy            Action   \n",
       "17673        0             7   Adventure             Indie   \n",
       "23677        0             5       Indie            Casual   \n",
       "\n",
       "               Game_Tag_3 Game_Tag_4    Game_Tag_5               App_cat  \\\n",
       "10463  Female Protagonist        NaN           NaN  Downloadable Content   \n",
       "11936               Indie        NaN           NaN                  Demo   \n",
       "41000               Indie     Casual  Free to Play  Downloadable Content   \n",
       "17673              Puzzle  Difficult   Atmospheric                  Game   \n",
       "23677            Strategy     Action  Free to Play  Downloadable Content   \n",
       "\n",
       "                          Dev_team               Publisher_team  Os_supported  \\\n",
       "10463  Sapphire Dragon Productions  Sapphire Dragon Productions             1   \n",
       "11936             Raphael Gervaise             Raphael Gervaise             4   \n",
       "41000            Pig s Indie Games            Pig s Indie Games             4   \n",
       "17673                    Codespace                    Codespace             1   \n",
       "23677                 Sombr Studio                 Sombr Studio             4   \n",
       "\n",
       "      Prymary_genre  Controller_support  Is_free_app  Nb_language  \\\n",
       "10463    Simulation                   0            0            2   \n",
       "11936        Action                   1            0            1   \n",
       "41000        Action                   1            0            9   \n",
       "17673         Indie                   0            0            1   \n",
       "23677        Action                   1            0            1   \n",
       "\n",
       "       Workshop_visible  Only_vr_support  Vr_support  Has_adult_content  \\\n",
       "10463                 0                0           0                  0   \n",
       "11936                 0                0           0                  0   \n",
       "41000                 0                0           0                  0   \n",
       "17673                 0                0           0                  0   \n",
       "23677                 0                0           0                  0   \n",
       "\n",
       "       Nb_achievements  Single_player  Coop_player  Multi_player  \\\n",
       "10463                0              1            0             0   \n",
       "11936                0              1            0             0   \n",
       "41000                0              0            0             1   \n",
       "17673                0              1            0             0   \n",
       "23677                0              1            0             1   \n",
       "\n",
       "       Early_Access  Price  \n",
       "10463             0   1.99  \n",
       "11936             0   0.00  \n",
       "41000             0   0.00  \n",
       "17673             0   1.99  \n",
       "23677             0   3.99  "
      ]
     },
     "execution_count": 2,
     "metadata": {},
     "output_type": "execute_result"
    }
   ],
   "source": [
    "# Import data\n",
    "df = pd.read_csv(\"../Data/app_hover_public.csv\")\n",
    "pd.set_option('display.max_columns', 50)\n",
    "df.sample(5)"
   ]
  },
  {
   "cell_type": "code",
   "execution_count": 3,
   "metadata": {},
   "outputs": [
    {
     "data": {
      "text/plain": [
       "(59472, 29)"
      ]
     },
     "execution_count": 3,
     "metadata": {},
     "output_type": "execute_result"
    }
   ],
   "source": [
    "df.shape"
   ]
  },
  {
   "cell_type": "code",
   "execution_count": 4,
   "metadata": {},
   "outputs": [],
   "source": [
    "def apply_status_reco(df):\n",
    "    if df['Nb_Eval'] >= 1:\n",
    "        return 1\n",
    "    else:\n",
    "        return 0\n",
    "    \n",
    "def apply_value_reco(df):\n",
    "    \"\"\"create Output phase 2 \"\"\"\n",
    "    if 'Positive' in df['Evaluation']:\n",
    "        return 1\n",
    "    else:\n",
    "        return 0  "
   ]
  },
  {
   "cell_type": "code",
   "execution_count": 5,
   "metadata": {},
   "outputs": [],
   "source": [
    "df['status_reco'] = df.apply(apply_status_reco, axis=1)\n",
    "df['Value_reco'] = df.apply(apply_value_reco, axis=1)"
   ]
  },
  {
   "cell_type": "code",
   "execution_count": 6,
   "metadata": {},
   "outputs": [],
   "source": [
    "\n",
    "df_clean = df.drop(columns=['Steam_id','Title', 'Date_release',\n",
    "                            'Game_Tag_1','Game_Tag_2', 'Game_Tag_3', 'Game_Tag_4', 'Game_Tag_5',\n",
    "                           'Nb_game_tags'])"
   ]
  },
  {
   "cell_type": "code",
   "execution_count": 7,
   "metadata": {},
   "outputs": [],
   "source": [
    "df_clean = df_clean[df_clean[\"App_cat\"].isin([\"Game\", \"Downloadable Content\",  \"Demo\"])]"
   ]
  },
  {
   "cell_type": "code",
   "execution_count": 8,
   "metadata": {},
   "outputs": [],
   "source": [
    "df_clean['exp_dev_team'] = df_clean.groupby('Dev_team')['Dev_team'].transform('count')\n",
    "df_clean['exp_publish_team'] = df_clean.groupby('Publisher_team')['Publisher_team'].transform('count')"
   ]
  },
  {
   "cell_type": "code",
   "execution_count": 9,
   "metadata": {},
   "outputs": [],
   "source": [
    "def apply_self_editing(df):\n",
    "    \"\"\"create feature self editing \"\"\"\n",
    "    if df['Dev_team'] == df['Publisher_team']:\n",
    "        return 1\n",
    "    else:\n",
    "        return 0"
   ]
  },
  {
   "cell_type": "code",
   "execution_count": 10,
   "metadata": {},
   "outputs": [],
   "source": [
    "df_clean['Self_editor'] = df_clean.apply(apply_self_editing, axis=1)"
   ]
  },
  {
   "cell_type": "code",
   "execution_count": 11,
   "metadata": {},
   "outputs": [],
   "source": [
    "values = {'exp_dev_team': 0, 'exp_publish_team': 0, 'Prymary_genre': 'Unknown Genre', 'App_cat': 'Unknown'}\n",
    "df_clean = df_clean.fillna(value=values);"
   ]
  },
  {
   "cell_type": "code",
   "execution_count": 12,
   "metadata": {},
   "outputs": [],
   "source": [
    "df_clean = df_clean.drop(columns=['Dev_team','Publisher_team'])"
   ]
  },
  {
   "cell_type": "code",
   "execution_count": 13,
   "metadata": {},
   "outputs": [],
   "source": [
    "convert_to_bool = [\"Controller_support\",\"Is_free_app\",\"Workshop_visible\",\"Only_vr_support\",\n",
    "                   \"Vr_support\",\"Has_adult_content\",'Single_player',\n",
    "                  'Coop_player', 'Multi_player', 'Early_Access','Self_editor']\n",
    "\n",
    "for col in convert_to_bool:\n",
    "    df_clean[col] = df_clean[col].astype('bool')"
   ]
  },
  {
   "cell_type": "code",
   "execution_count": 14,
   "metadata": {},
   "outputs": [],
   "source": [
    "df_ph1 = df_clean.drop(columns=[\"Evaluation\", \"Nb_Eval\", \"Value_reco\"])"
   ]
  },
  {
   "cell_type": "code",
   "execution_count": 15,
   "metadata": {},
   "outputs": [
    {
     "data": {
      "text/plain": [
       "Index(['App_cat', 'Os_supported', 'Prymary_genre', 'Controller_support',\n",
       "       'Is_free_app', 'Nb_language', 'Workshop_visible', 'Only_vr_support',\n",
       "       'Vr_support', 'Has_adult_content', 'Nb_achievements', 'Single_player',\n",
       "       'Coop_player', 'Multi_player', 'Early_Access', 'Price', 'status_reco',\n",
       "       'exp_dev_team', 'exp_publish_team', 'Self_editor'],\n",
       "      dtype='object')"
      ]
     },
     "execution_count": 15,
     "metadata": {},
     "output_type": "execute_result"
    }
   ],
   "source": [
    "df_ph1.columns"
   ]
  },
  {
   "cell_type": "code",
   "execution_count": 16,
   "metadata": {},
   "outputs": [],
   "source": [
    "# sélection des colonnes 3 à 12 inclus pour le train\n",
    "X_train_full = df_ph1.drop(columns=['status_reco'])\n",
    "\n",
    "# sélection de la colonne 'Exited' y a prédire\n",
    "y_train_full = df_ph1['status_reco']"
   ]
  },
  {
   "cell_type": "code",
   "execution_count": 17,
   "metadata": {},
   "outputs": [
    {
     "data": {
      "text/plain": [
       "((54447, 19), (54447,))"
      ]
     },
     "execution_count": 17,
     "metadata": {},
     "output_type": "execute_result"
    }
   ],
   "source": [
    "X_train_full.shape,y_train_full.shape"
   ]
  },
  {
   "cell_type": "code",
   "execution_count": 18,
   "metadata": {},
   "outputs": [],
   "source": [
    "seed = 69\n",
    "np.random.seed(seed)\n",
    "\n",
    "X_train, X_test, y_train, y_test = train_test_split(X_train_full, y_train_full, test_size = 0.2, random_state = seed)"
   ]
  },
  {
   "cell_type": "code",
   "execution_count": 19,
   "metadata": {},
   "outputs": [
    {
     "data": {
      "text/plain": [
       "((43557, 19), (10890, 19), (43557,), (10890,))"
      ]
     },
     "execution_count": 19,
     "metadata": {},
     "output_type": "execute_result"
    }
   ],
   "source": [
    "X_train.shape, X_test.shape, y_train.shape, y_test.shape"
   ]
  },
  {
   "cell_type": "code",
   "execution_count": 20,
   "metadata": {},
   "outputs": [],
   "source": [
    "# utilisation de la méthode make_column_transformer pour regrouper les différents transform en un appel.\n",
    "\n",
    "preprocess = make_column_transformer( (OneHotEncoder(), ['App_cat', 'Prymary_genre']),\n",
    "                                      (MinMaxScaler(), ['Os_supported', 'Controller_support',\n",
    "       'Is_free_app', 'Nb_language', 'Workshop_visible', 'Only_vr_support',\n",
    "       'Vr_support', 'Has_adult_content', 'Nb_achievements', 'Single_player',\n",
    "       'Coop_player', 'Multi_player', 'Early_Access', 'Price',\n",
    "       'exp_dev_team', 'exp_publish_team', 'Self_editor']))"
   ]
  },
  {
   "cell_type": "code",
   "execution_count": 21,
   "metadata": {},
   "outputs": [],
   "source": [
    "X_train = preprocess.fit_transform(X_train)\n",
    "X_test = preprocess.transform(X_test)\n",
    "\n",
    "y_train = y_train.values\n",
    "y_test = y_test.values"
   ]
  },
  {
   "cell_type": "code",
   "execution_count": 22,
   "metadata": {},
   "outputs": [
    {
     "data": {
      "text/plain": [
       "((43557, 47), (10890, 47), (43557,), (10890,))"
      ]
     },
     "execution_count": 22,
     "metadata": {},
     "output_type": "execute_result"
    }
   ],
   "source": [
    "X_train.shape, X_test.shape, y_train.shape, y_test.shape"
   ]
  },
  {
   "cell_type": "markdown",
   "metadata": {},
   "source": [
    "# Creation du modèle"
   ]
  },
  {
   "cell_type": "code",
   "execution_count": 30,
   "metadata": {},
   "outputs": [],
   "source": [
    "# Astuce: pour definire le nombre de Dense dans un premier temps on peut faire la moyenne\n",
    "# du nombres de features ici 13 + nb output ici 1 soit (13+1)/2 = 7\n",
    "\n",
    "def create_deep_classifier(neurons=100):\n",
    "    \n",
    "    dim = X_train.shape[1]\n",
    "    model = Sequential()\n",
    "    \n",
    "    # initialisation du modèle et création de la couche cachée\n",
    "    model.add(Dense(neurons, input_dim=dim, activation=\"relu\", kernel_initializer=\"uniform\"))\n",
    "    model.add(Dropout(rate=0.01))\n",
    "    \n",
    "    # création d'une deuxiéme couche cachée\n",
    "    model.add(Dense(int(neurons/2), activation=\"relu\", kernel_initializer=\"uniform\"))\n",
    "    model.add(Dropout(rate=0.01))\n",
    "    \n",
    "#     model.add(Dense(int(neurons/4), activation=\"relu\", kernel_initializer=\"uniform\"))\n",
    "#     model.add(Dropout(rate=0.01))\n",
    "    \n",
    "    # création de la couche de sortie\n",
    "    model.add(Dense(1, activation=\"sigmoid\", kernel_initializer=\"uniform\"))# multi_class (3, activation=\"softmax\")\n",
    "              \n",
    "    # Compilation du modèle\n",
    "    model.compile(optimizer=\"adam\", loss =\"binary_crossentropy\", metrics = [\"accuracy\"])# multi(loss=\"categorical_crossentropy\")\n",
    "    \n",
    "    return model\n",
    "\n",
    "########################## Paramétre disponible pour la creation d'une couche cachée #############################\n",
    "\n",
    "# keras.layers.Dense(units, activation=None, use_bias=True, kernel_initializer='glorot_uniform',\n",
    "#                    bias_initializer='zeros', kernel_regularizer=None, bias_regularizer=None, \n",
    "#                    activity_regularizer=None, kernel_constraint=None, bias_constraint=None)\n",
    "              \n",
    "########################## Paramétre disponible pour la compilation d'un modèle #############################\n",
    "            \n",
    "# compile(optimizer, loss=None, metrics=None, loss_weights=None, \n",
    "#        sample_weight_mode=None, weighted_metrics=None, target_tensors=None)"
   ]
  },
  {
   "cell_type": "markdown",
   "metadata": {},
   "source": [
    "# Entrainement du modèle"
   ]
  },
  {
   "cell_type": "code",
   "execution_count": 31,
   "metadata": {
    "scrolled": true
   },
   "outputs": [
    {
     "name": "stdout",
     "output_type": "stream",
     "text": [
      "Epoch 1/100\n",
      "1362/1362 [==============================] - 4s 3ms/step - loss: 0.5454 - accuracy: 0.7097 - val_loss: 0.5282 - val_accuracy: 0.7248\n",
      "Epoch 2/100\n",
      "1362/1362 [==============================] - 4s 3ms/step - loss: 0.5213 - accuracy: 0.7276 - val_loss: 0.5177 - val_accuracy: 0.7312\n",
      "Epoch 3/100\n",
      "1362/1362 [==============================] - 4s 3ms/step - loss: 0.5140 - accuracy: 0.7346 - val_loss: 0.5142 - val_accuracy: 0.7383\n",
      "Epoch 4/100\n",
      "1362/1362 [==============================] - 4s 3ms/step - loss: 0.5076 - accuracy: 0.7399 - val_loss: 0.5165 - val_accuracy: 0.7331\n",
      "Epoch 5/100\n",
      "1362/1362 [==============================] - 4s 3ms/step - loss: 0.5042 - accuracy: 0.7423 - val_loss: 0.5035 - val_accuracy: 0.7469\n",
      "Epoch 6/100\n",
      "1362/1362 [==============================] - 4s 3ms/step - loss: 0.4997 - accuracy: 0.7445 - val_loss: 0.4999 - val_accuracy: 0.7513\n",
      "Epoch 7/100\n",
      "1362/1362 [==============================] - 3s 3ms/step - loss: 0.4961 - accuracy: 0.7454 - val_loss: 0.5013 - val_accuracy: 0.7467\n",
      "Epoch 8/100\n",
      "1362/1362 [==============================] - 3s 3ms/step - loss: 0.4931 - accuracy: 0.7490 - val_loss: 0.5033 - val_accuracy: 0.7478\n",
      "Epoch 9/100\n",
      "1362/1362 [==============================] - 4s 3ms/step - loss: 0.4911 - accuracy: 0.7503 - val_loss: 0.4962 - val_accuracy: 0.7498\n",
      "Epoch 10/100\n",
      "1362/1362 [==============================] - 3s 3ms/step - loss: 0.4886 - accuracy: 0.7527 - val_loss: 0.4948 - val_accuracy: 0.7529\n",
      "Epoch 11/100\n",
      "1362/1362 [==============================] - 4s 3ms/step - loss: 0.4873 - accuracy: 0.7539 - val_loss: 0.4977 - val_accuracy: 0.7499\n",
      "Epoch 12/100\n",
      "1362/1362 [==============================] - 4s 3ms/step - loss: 0.4850 - accuracy: 0.7565 - val_loss: 0.4935 - val_accuracy: 0.7561\n",
      "Epoch 13/100\n",
      "1362/1362 [==============================] - 4s 3ms/step - loss: 0.4831 - accuracy: 0.7570 - val_loss: 0.4907 - val_accuracy: 0.7567\n",
      "Epoch 14/100\n",
      "1362/1362 [==============================] - 4s 3ms/step - loss: 0.4822 - accuracy: 0.7573 - val_loss: 0.4932 - val_accuracy: 0.7516\n",
      "Epoch 15/100\n",
      "1362/1362 [==============================] - 4s 3ms/step - loss: 0.4812 - accuracy: 0.7591 - val_loss: 0.4916 - val_accuracy: 0.7514\n",
      "Epoch 16/100\n",
      "1362/1362 [==============================] - 4s 3ms/step - loss: 0.4787 - accuracy: 0.7596 - val_loss: 0.4902 - val_accuracy: 0.7595\n",
      "Epoch 17/100\n",
      "1362/1362 [==============================] - 4s 3ms/step - loss: 0.4772 - accuracy: 0.7609 - val_loss: 0.4867 - val_accuracy: 0.7575\n",
      "Epoch 18/100\n",
      "1362/1362 [==============================] - 4s 3ms/step - loss: 0.4759 - accuracy: 0.7615 - val_loss: 0.4974 - val_accuracy: 0.7460\n",
      "Epoch 19/100\n",
      "1362/1362 [==============================] - 3s 3ms/step - loss: 0.4748 - accuracy: 0.7638 - val_loss: 0.4932 - val_accuracy: 0.7613\n",
      "Epoch 20/100\n",
      "1362/1362 [==============================] - 3s 3ms/step - loss: 0.4744 - accuracy: 0.7624 - val_loss: 0.4871 - val_accuracy: 0.7606\n",
      "Epoch 21/100\n",
      "1362/1362 [==============================] - 3s 3ms/step - loss: 0.4725 - accuracy: 0.7643 - val_loss: 0.4859 - val_accuracy: 0.7644\n",
      "Epoch 22/100\n",
      "1362/1362 [==============================] - 4s 3ms/step - loss: 0.4721 - accuracy: 0.7645 - val_loss: 0.4863 - val_accuracy: 0.7649\n",
      "Epoch 23/100\n",
      "1362/1362 [==============================] - 4s 3ms/step - loss: 0.4715 - accuracy: 0.7643 - val_loss: 0.4852 - val_accuracy: 0.7642\n",
      "Epoch 24/100\n",
      "1362/1362 [==============================] - 4s 3ms/step - loss: 0.4703 - accuracy: 0.7635 - val_loss: 0.4862 - val_accuracy: 0.7634\n",
      "Epoch 25/100\n",
      "1362/1362 [==============================] - 4s 3ms/step - loss: 0.4693 - accuracy: 0.7662 - val_loss: 0.4854 - val_accuracy: 0.7654\n",
      "Epoch 26/100\n",
      "1362/1362 [==============================] - 4s 3ms/step - loss: 0.4692 - accuracy: 0.7657 - val_loss: 0.4846 - val_accuracy: 0.7680\n",
      "Epoch 27/100\n",
      "1362/1362 [==============================] - 4s 3ms/step - loss: 0.4684 - accuracy: 0.7661 - val_loss: 0.4854 - val_accuracy: 0.7625\n",
      "Epoch 28/100\n",
      "1362/1362 [==============================] - 4s 3ms/step - loss: 0.4667 - accuracy: 0.7666 - val_loss: 0.4837 - val_accuracy: 0.7633\n",
      "Epoch 29/100\n",
      "1362/1362 [==============================] - 4s 3ms/step - loss: 0.4663 - accuracy: 0.7674 - val_loss: 0.4844 - val_accuracy: 0.7634\n",
      "Epoch 30/100\n",
      "1362/1362 [==============================] - 4s 3ms/step - loss: 0.4656 - accuracy: 0.7677 - val_loss: 0.4839 - val_accuracy: 0.7664\n",
      "Epoch 31/100\n",
      "1362/1362 [==============================] - 4s 3ms/step - loss: 0.4651 - accuracy: 0.7681 - val_loss: 0.4887 - val_accuracy: 0.7614\n",
      "Epoch 32/100\n",
      "1362/1362 [==============================] - 5s 3ms/step - loss: 0.4642 - accuracy: 0.7679 - val_loss: 0.4844 - val_accuracy: 0.7647\n",
      "Epoch 33/100\n",
      "1362/1362 [==============================] - 5s 3ms/step - loss: 0.4638 - accuracy: 0.7677 - val_loss: 0.4868 - val_accuracy: 0.7578\n",
      "Epoch 34/100\n",
      "1362/1362 [==============================] - 5s 4ms/step - loss: 0.4633 - accuracy: 0.7684 - val_loss: 0.4848 - val_accuracy: 0.7662\n",
      "Epoch 35/100\n",
      "1362/1362 [==============================] - 5s 3ms/step - loss: 0.4625 - accuracy: 0.7694 - val_loss: 0.4839 - val_accuracy: 0.7671\n",
      "Epoch 36/100\n",
      "1362/1362 [==============================] - 5s 4ms/step - loss: 0.4621 - accuracy: 0.7706 - val_loss: 0.4867 - val_accuracy: 0.7628\n",
      "Epoch 37/100\n",
      "1362/1362 [==============================] - 5s 4ms/step - loss: 0.4618 - accuracy: 0.7710 - val_loss: 0.4855 - val_accuracy: 0.7647\n",
      "Epoch 38/100\n",
      "1362/1362 [==============================] - 5s 3ms/step - loss: 0.4596 - accuracy: 0.7719 - val_loss: 0.4847 - val_accuracy: 0.7632\n",
      "Epoch 39/100\n",
      "1362/1362 [==============================] - 5s 3ms/step - loss: 0.4602 - accuracy: 0.7739 - val_loss: 0.4833 - val_accuracy: 0.7651\n",
      "Epoch 40/100\n",
      "1362/1362 [==============================] - 5s 4ms/step - loss: 0.4595 - accuracy: 0.7717 - val_loss: 0.4862 - val_accuracy: 0.7625\n",
      "Epoch 41/100\n",
      "1362/1362 [==============================] - 4s 3ms/step - loss: 0.4591 - accuracy: 0.7728 - val_loss: 0.4840 - val_accuracy: 0.7610\n",
      "Epoch 42/100\n",
      "1362/1362 [==============================] - 4s 3ms/step - loss: 0.4582 - accuracy: 0.7720 - val_loss: 0.4865 - val_accuracy: 0.7641\n",
      "Epoch 43/100\n",
      "1362/1362 [==============================] - 4s 3ms/step - loss: 0.4581 - accuracy: 0.7720 - val_loss: 0.4887 - val_accuracy: 0.7583\n",
      "Epoch 44/100\n",
      "1362/1362 [==============================] - 4s 3ms/step - loss: 0.4578 - accuracy: 0.7726 - val_loss: 0.4839 - val_accuracy: 0.7630\n",
      "Epoch 45/100\n",
      "1362/1362 [==============================] - 4s 3ms/step - loss: 0.4565 - accuracy: 0.7743 - val_loss: 0.4836 - val_accuracy: 0.7657\n",
      "Epoch 46/100\n",
      "1362/1362 [==============================] - 4s 3ms/step - loss: 0.4570 - accuracy: 0.7734 - val_loss: 0.4896 - val_accuracy: 0.7636\n",
      "Epoch 47/100\n",
      "1362/1362 [==============================] - 4s 3ms/step - loss: 0.4569 - accuracy: 0.7742 - val_loss: 0.4843 - val_accuracy: 0.7682\n",
      "Epoch 48/100\n",
      "1362/1362 [==============================] - 4s 3ms/step - loss: 0.4561 - accuracy: 0.7738 - val_loss: 0.4879 - val_accuracy: 0.7629\n",
      "Epoch 49/100\n",
      "1362/1362 [==============================] - 4s 3ms/step - loss: 0.4555 - accuracy: 0.7730 - val_loss: 0.4851 - val_accuracy: 0.7648\n",
      "Epoch 50/100\n",
      "1362/1362 [==============================] - 4s 3ms/step - loss: 0.4549 - accuracy: 0.7743 - val_loss: 0.4907 - val_accuracy: 0.7624\n",
      "Epoch 51/100\n",
      "1362/1362 [==============================] - 4s 3ms/step - loss: 0.4543 - accuracy: 0.7751 - val_loss: 0.4945 - val_accuracy: 0.7555\n",
      "Epoch 52/100\n",
      "1362/1362 [==============================] - 4s 3ms/step - loss: 0.4544 - accuracy: 0.7749 - val_loss: 0.4902 - val_accuracy: 0.7656\n",
      "Epoch 53/100\n",
      "1362/1362 [==============================] - 5s 4ms/step - loss: 0.4546 - accuracy: 0.7740 - val_loss: 0.4849 - val_accuracy: 0.7681\n",
      "Epoch 54/100\n",
      "1362/1362 [==============================] - 5s 4ms/step - loss: 0.4535 - accuracy: 0.7766 - val_loss: 0.4850 - val_accuracy: 0.7678\n",
      "Epoch 55/100\n",
      "1362/1362 [==============================] - 4s 3ms/step - loss: 0.4538 - accuracy: 0.7767 - val_loss: 0.4881 - val_accuracy: 0.7643\n",
      "Epoch 56/100\n",
      "1362/1362 [==============================] - 4s 3ms/step - loss: 0.4535 - accuracy: 0.7757 - val_loss: 0.4875 - val_accuracy: 0.7635\n",
      "Epoch 57/100\n",
      "1362/1362 [==============================] - 4s 3ms/step - loss: 0.4528 - accuracy: 0.7763 - val_loss: 0.4855 - val_accuracy: 0.7661\n",
      "Epoch 58/100\n",
      "1362/1362 [==============================] - 4s 3ms/step - loss: 0.4523 - accuracy: 0.7769 - val_loss: 0.4852 - val_accuracy: 0.7657\n",
      "Epoch 59/100\n",
      "1362/1362 [==============================] - 4s 3ms/step - loss: 0.4512 - accuracy: 0.7759 - val_loss: 0.4859 - val_accuracy: 0.7631\n",
      "Epoch 60/100\n",
      "1362/1362 [==============================] - 4s 3ms/step - loss: 0.4516 - accuracy: 0.7769 - val_loss: 0.4850 - val_accuracy: 0.7674\n",
      "Epoch 61/100\n",
      "1362/1362 [==============================] - 4s 3ms/step - loss: 0.4511 - accuracy: 0.7779 - val_loss: 0.4901 - val_accuracy: 0.7653\n",
      "Epoch 62/100\n",
      "1362/1362 [==============================] - 4s 3ms/step - loss: 0.4516 - accuracy: 0.7757 - val_loss: 0.4908 - val_accuracy: 0.7657\n",
      "Epoch 63/100\n",
      "1362/1362 [==============================] - 4s 3ms/step - loss: 0.4509 - accuracy: 0.7781 - val_loss: 0.4837 - val_accuracy: 0.7638\n",
      "Epoch 64/100\n",
      "1362/1362 [==============================] - 4s 3ms/step - loss: 0.4511 - accuracy: 0.7783 - val_loss: 0.4836 - val_accuracy: 0.7666\n",
      "Epoch 65/100\n",
      "1362/1362 [==============================] - 4s 3ms/step - loss: 0.4497 - accuracy: 0.7783 - val_loss: 0.4893 - val_accuracy: 0.7671\n",
      "Epoch 66/100\n",
      "1362/1362 [==============================] - 4s 3ms/step - loss: 0.4501 - accuracy: 0.7771 - val_loss: 0.4835 - val_accuracy: 0.7687\n",
      "Epoch 67/100\n",
      "1362/1362 [==============================] - 4s 3ms/step - loss: 0.4509 - accuracy: 0.7776 - val_loss: 0.4899 - val_accuracy: 0.7645\n",
      "Epoch 68/100\n",
      "1362/1362 [==============================] - 4s 3ms/step - loss: 0.4492 - accuracy: 0.7781 - val_loss: 0.4858 - val_accuracy: 0.7655\n",
      "Epoch 69/100\n",
      "1362/1362 [==============================] - 4s 3ms/step - loss: 0.4494 - accuracy: 0.7795 - val_loss: 0.4859 - val_accuracy: 0.7646\n",
      "Epoch 70/100\n",
      "1362/1362 [==============================] - 4s 3ms/step - loss: 0.4486 - accuracy: 0.7783 - val_loss: 0.4861 - val_accuracy: 0.7666\n",
      "Epoch 71/100\n",
      "1362/1362 [==============================] - 4s 3ms/step - loss: 0.4487 - accuracy: 0.7786 - val_loss: 0.4873 - val_accuracy: 0.7646\n",
      "Epoch 72/100\n",
      "1362/1362 [==============================] - 4s 3ms/step - loss: 0.4473 - accuracy: 0.7799 - val_loss: 0.4882 - val_accuracy: 0.7657\n",
      "Epoch 73/100\n",
      "1362/1362 [==============================] - 4s 3ms/step - loss: 0.4487 - accuracy: 0.7774 - val_loss: 0.4865 - val_accuracy: 0.7652\n",
      "Epoch 74/100\n",
      "1362/1362 [==============================] - 4s 3ms/step - loss: 0.4475 - accuracy: 0.7786 - val_loss: 0.4874 - val_accuracy: 0.7659\n",
      "Epoch 75/100\n",
      "1362/1362 [==============================] - 4s 3ms/step - loss: 0.4476 - accuracy: 0.7804 - val_loss: 0.4844 - val_accuracy: 0.7669\n",
      "Epoch 76/100\n",
      "1362/1362 [==============================] - 4s 3ms/step - loss: 0.4461 - accuracy: 0.7796 - val_loss: 0.4858 - val_accuracy: 0.7661\n",
      "Epoch 77/100\n",
      "1362/1362 [==============================] - 4s 3ms/step - loss: 0.4467 - accuracy: 0.7794 - val_loss: 0.4846 - val_accuracy: 0.7661\n",
      "Epoch 78/100\n",
      "1362/1362 [==============================] - 4s 3ms/step - loss: 0.4470 - accuracy: 0.7802 - val_loss: 0.4854 - val_accuracy: 0.7694\n",
      "Epoch 79/100\n",
      "1362/1362 [==============================] - 4s 3ms/step - loss: 0.4467 - accuracy: 0.7811 - val_loss: 0.4861 - val_accuracy: 0.7685\n",
      "Epoch 80/100\n",
      "1362/1362 [==============================] - 4s 3ms/step - loss: 0.4461 - accuracy: 0.7790 - val_loss: 0.4864 - val_accuracy: 0.7680\n",
      "Epoch 81/100\n",
      "1362/1362 [==============================] - 4s 3ms/step - loss: 0.4459 - accuracy: 0.7796 - val_loss: 0.4859 - val_accuracy: 0.7654\n",
      "Epoch 82/100\n",
      "1362/1362 [==============================] - 4s 3ms/step - loss: 0.4471 - accuracy: 0.7806 - val_loss: 0.4908 - val_accuracy: 0.7682\n",
      "Epoch 83/100\n",
      "1362/1362 [==============================] - 4s 3ms/step - loss: 0.4461 - accuracy: 0.7800 - val_loss: 0.4979 - val_accuracy: 0.7579\n",
      "Epoch 84/100\n",
      "1362/1362 [==============================] - 4s 3ms/step - loss: 0.4459 - accuracy: 0.7794 - val_loss: 0.4867 - val_accuracy: 0.7664\n",
      "Epoch 85/100\n",
      "1362/1362 [==============================] - 4s 3ms/step - loss: 0.4454 - accuracy: 0.7810 - val_loss: 0.4855 - val_accuracy: 0.7681\n",
      "Epoch 86/100\n",
      "1362/1362 [==============================] - 4s 3ms/step - loss: 0.4459 - accuracy: 0.7802 - val_loss: 0.4899 - val_accuracy: 0.7639\n",
      "Epoch 87/100\n",
      "1362/1362 [==============================] - 4s 3ms/step - loss: 0.4448 - accuracy: 0.7809 - val_loss: 0.4848 - val_accuracy: 0.7690\n",
      "Epoch 88/100\n",
      "1362/1362 [==============================] - 4s 3ms/step - loss: 0.4453 - accuracy: 0.7823 - val_loss: 0.4860 - val_accuracy: 0.7682\n",
      "Epoch 89/100\n",
      "1362/1362 [==============================] - 4s 3ms/step - loss: 0.4440 - accuracy: 0.7817 - val_loss: 0.4871 - val_accuracy: 0.7657\n",
      "Epoch 90/100\n",
      "1362/1362 [==============================] - 4s 3ms/step - loss: 0.4440 - accuracy: 0.7803 - val_loss: 0.4911 - val_accuracy: 0.7672\n",
      "Epoch 91/100\n",
      "1362/1362 [==============================] - 4s 3ms/step - loss: 0.4432 - accuracy: 0.7826 - val_loss: 0.4906 - val_accuracy: 0.7647\n",
      "Epoch 92/100\n",
      "1362/1362 [==============================] - 4s 3ms/step - loss: 0.4434 - accuracy: 0.7812 - val_loss: 0.4881 - val_accuracy: 0.7659\n",
      "Epoch 93/100\n",
      "1362/1362 [==============================] - 4s 3ms/step - loss: 0.4431 - accuracy: 0.7817 - val_loss: 0.4880 - val_accuracy: 0.7665\n",
      "Epoch 94/100\n",
      "1362/1362 [==============================] - 4s 3ms/step - loss: 0.4427 - accuracy: 0.7830 - val_loss: 0.4888 - val_accuracy: 0.7657\n",
      "Epoch 95/100\n",
      "1362/1362 [==============================] - 4s 3ms/step - loss: 0.4435 - accuracy: 0.7802 - val_loss: 0.4842 - val_accuracy: 0.7681\n",
      "Epoch 96/100\n",
      "1362/1362 [==============================] - 4s 3ms/step - loss: 0.4422 - accuracy: 0.7820 - val_loss: 0.4885 - val_accuracy: 0.7677\n",
      "Epoch 97/100\n",
      "1362/1362 [==============================] - 4s 3ms/step - loss: 0.4424 - accuracy: 0.7818 - val_loss: 0.4889 - val_accuracy: 0.7646\n",
      "Epoch 98/100\n",
      "1362/1362 [==============================] - 4s 3ms/step - loss: 0.4419 - accuracy: 0.7817 - val_loss: 0.4871 - val_accuracy: 0.7684\n",
      "Epoch 99/100\n",
      "1362/1362 [==============================] - 4s 3ms/step - loss: 0.4413 - accuracy: 0.7828 - val_loss: 0.4937 - val_accuracy: 0.7648\n",
      "Epoch 100/100\n",
      "1362/1362 [==============================] - 4s 3ms/step - loss: 0.4418 - accuracy: 0.7816 - val_loss: 0.4891 - val_accuracy: 0.7673\n"
     ]
    }
   ],
   "source": [
    "model = create_deep_classifier(neurons=60)\n",
    "history = model.fit(X_train,y_train, epochs=100, batch_size=32, validation_data=(X_test, y_test))\n",
    "\n",
    "########################## Paramétre disponible pour l'entrainement d'un modèle #############################\n",
    "\n",
    "# fit(x=None, y=None, batch_size=None, epochs=1, verbose=1, callbacks=None,\n",
    "#     validation_split=0.0, validation_data=None, shuffle=True, class_weight=None, sample_weight=None, \n",
    "#     initial_epoch=0, steps_per_epoch=None, validation_steps=None, validation_freq=1, \n",
    "#     max_queue_size=10, workers=1, use_multiprocessing=False)"
   ]
  },
  {
   "cell_type": "code",
   "execution_count": 32,
   "metadata": {},
   "outputs": [
    {
     "name": "stdout",
     "output_type": "stream",
     "text": [
      "Model: \"sequential_1\"\n",
      "_________________________________________________________________\n",
      "Layer (type)                 Output Shape              Param #   \n",
      "=================================================================\n",
      "dense_4 (Dense)              (None, 60)                2880      \n",
      "_________________________________________________________________\n",
      "dropout_3 (Dropout)          (None, 60)                0         \n",
      "_________________________________________________________________\n",
      "dense_5 (Dense)              (None, 30)                1830      \n",
      "_________________________________________________________________\n",
      "dropout_4 (Dropout)          (None, 30)                0         \n",
      "_________________________________________________________________\n",
      "dense_6 (Dense)              (None, 1)                 31        \n",
      "=================================================================\n",
      "Total params: 4,741\n",
      "Trainable params: 4,741\n",
      "Non-trainable params: 0\n",
      "_________________________________________________________________\n"
     ]
    }
   ],
   "source": [
    "model.summary()"
   ]
  },
  {
   "cell_type": "code",
   "execution_count": 33,
   "metadata": {},
   "outputs": [
    {
     "name": "stdout",
     "output_type": "stream",
     "text": [
      "dict_keys(['loss', 'accuracy', 'val_loss', 'val_accuracy'])\n"
     ]
    }
   ],
   "source": [
    "print(history.history.keys())"
   ]
  },
  {
   "cell_type": "code",
   "execution_count": 34,
   "metadata": {},
   "outputs": [
    {
     "data": {
      "image/png": "[encoded data removed]",
      "text/plain": [
       "<Figure size 432x288 with 1 Axes>"
      ]
     },
     "metadata": {
      "needs_background": "light"
     },
     "output_type": "display_data"
    }
   ],
   "source": [
    "def hist_foll(metrics):\n",
    "    plt.plot(history.history[f'{metrics}'])\n",
    "    plt.plot(history.history[f\"val_{metrics}\"])\n",
    "    plt.grid = True\n",
    "    plt.title(f'Model {metrics}')\n",
    "    plt.ylabel(f'{metrics}')\n",
    "    plt.xlabel('epoch')\n",
    "    plt.legend(['train', 'test'], loc='upper right')\n",
    "    plt.show\n",
    "\n",
    "hist_foll('loss')    "
   ]
  },
  {
   "cell_type": "code",
   "execution_count": null,
   "metadata": {},
   "outputs": [],
   "source": []
  }
 ],
 "metadata": {
  "hide_input": false,
  "kernelspec": {
   "display_name": "Python 3",
   "language": "python",
   "name": "python3"
  },
  "language_info": {
   "codemirror_mode": {
    "name": "ipython",
    "version": 3
   },
   "file_extension": ".py",
   "mimetype": "text/x-python",
   "name": "python",
   "nbconvert_exporter": "python",
   "pygments_lexer": "ipython3",
   "version": "3.7.0"
  },
  "nbTranslate": {
   "displayLangs": [
    "*"
   ],
   "hotkey": "alt-t",
   "langInMainMenu": true,
   "sourceLang": "en",
   "targetLang": "fr",
   "useGoogleTranslate": true
  },
  "varInspector": {
   "cols": {
    "lenName": 16,
    "lenType": 16,
    "lenVar": 40
   },
   "kernels_config": {
    "python": {
     "delete_cmd_postfix": "",
     "delete_cmd_prefix": "del ",
     "library": "var_list.py",
     "varRefreshCmd": "print(var_dic_list())"
    },
    "r": {
     "delete_cmd_postfix": ") ",
     "delete_cmd_prefix": "rm(",
     "library": "var_list.r",
     "varRefreshCmd": "cat(var_dic_list()) "
    }
   },
   "types_to_exclude": [
    "module",
    "function",
    "builtin_function_or_method",
    "instance",
    "_Feature"
   ],
   "window_display": false
  }
 },
 "nbformat": 4,
 "nbformat_minor": 2
}
